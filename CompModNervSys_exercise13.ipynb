{
  "cells": [
    {
      "attachments": {},
      "cell_type": "markdown",
      "metadata": {
        "colab_type": "text",
        "id": "view-in-github"
      },
      "source": [
        "<a href=\"https://colab.research.google.com/github/CompModNervSystem/CompModNervSystem-exercises/blob/main/CompModNervSys_exercise12_solutions.ipynb\" target=\"_parent\"><img src=\"https://colab.research.google.com/assets/colab-badge.svg\" alt=\"Open In Colab\"/></a>"
      ]
    },
    {
      "attachments": {},
      "cell_type": "markdown",
      "metadata": {
        "id": "tSawaquoIBf9"
      },
      "source": [
        "# BIOL 74.03 (SP23): Computational Modeling of the Nervous System \n",
        "# Exercise 13: Modeling extracellular action potential recordings\n",
        "\n",
        "### Exercise goals\n",
        "\n",
        "1) Understand components of the extracellular action potential\n",
        "\n",
        "2) Understand how extracellular action potential shape varies with electrode location\n",
        "\n",
        "3) Quantify how extracellular action potential amplitude varies with neuron to electrode distance\n",
        "\n",
        "Work through the code below, running each cell, adding code where required, and making sure you understand the output. When you see questions with <span style=\"color:red\">***Q:*** </span> preceding them, write your responses in text cells. Numbered items (<font color='red'>1, 2, etc. </font>) indicate instructions for code you need to write.\n"
      ]
    },
    {
      "attachments": {},
      "cell_type": "markdown",
      "metadata": {},
      "source": [
        "We'll be using NEURON for this exercise, so we first install neuron to our runtime."
      ]
    },
    {
      "cell_type": "code",
      "execution_count": null,
      "metadata": {},
      "outputs": [],
      "source": [
        "%pip install neuron # only need to run this cell once to install \n",
        "                    # neuron in the local jupyter environment"
      ]
    },
    {
      "attachments": {},
      "cell_type": "markdown",
      "metadata": {},
      "source": [
        "Run the code block below just once to get all the files we need from the repository into our colab session and to compile the MOD mechanism files we'll be using. "
      ]
    },
    {
      "cell_type": "code",
      "execution_count": null,
      "metadata": {},
      "outputs": [],
      "source": [
        "repo_name = 'CompModNervSys-ExtracellularRec'\n",
        "if 'google.colab' in str(get_ipython()): # Running on colab\n",
        "    import os        \n",
        "    # from distutils.dir_util import copy_tree\n",
        "    if not os.path.exists(repo_name):\n",
        "        !git clone https://github.com/CompModNervSystem/{repo_name}.git # downloads repository into our Google colab session's file system        \n",
        "    \n",
        "    os.chdir('/content/' + repo_name)\n",
        "\n",
        "# Compile mechanisms\n",
        "!nrnivmodl mechanisms"
      ]
    },
    {
      "attachments": {},
      "cell_type": "markdown",
      "metadata": {},
      "source": [
        "Now we can import the packages we'll be using"
      ]
    },
    {
      "cell_type": "code",
      "execution_count": null,
      "metadata": {},
      "outputs": [],
      "source": [
        "from neuron import h # all NEURON hoc functions are accessed through h\n",
        "from neuron import gui # if you're running this notebook in a local environment (instead of on google colab), launches the GUI\n",
        "h.load_file('stdrun.hoc') # loads neuron standard hoc library, not always necessary \n",
        "import numpy as np\n",
        "import matplotlib as mpl\n",
        "mpl.rcParams['axes.spines.right'] = False\n",
        "mpl.rcParams['axes.spines.top'] = False\n",
        "import matplotlib.pyplot as plt\n",
        "import plotly\n",
        "from plotly.subplots import make_subplots\n",
        "import plotly.graph_objects as go\n",
        "\n",
        "if 'google.colab' in str(get_ipython()): # For making interactive plots work on google colab\n",
        "    from google.colab import output\n",
        "    output.enable_custom_widget_manager()\n",
        "else:\n",
        "    plotly.offline.init_notebook_mode() # for printing notebooks offline  "
      ]
    },
    {
      "attachments": {},
      "cell_type": "markdown",
      "metadata": {},
      "source": [
        "# Simulating the extracellular action potential of a cortical pyramidal neuron\n",
        "\n",
        "For this exercise, we'll return to the Hay model of a layer 5 pyramidal neuron. For a refresher on the components of this model and how to use it, feel free to revisit [Exercise 10](https://github.com/CompModNervSystem/CompModNervSys-NonLinearDendrites/blob/main/CompModNervSys_exercise10_part1.ipynb).\n",
        "\n",
        "Briefly, this model uses a reconstructed morphology of the dendritic arbor of an L5 pyramidal cell from rat somatosensory cortex and includes voltage gated sodium, potassium, and calcium channels distributed with different densities in the soma, axon initial segment, apical dendrite, and basal dendrite.Previously, we've restricted ourselves to intracellular recordings, taking advantage of the fact that we can access all model variables with ease, unlike experiments. Combining cable theory with volume conductor theory allows us to simulate an extracellular electrical recording, as is done experimentally. \n",
        "\n",
        "To do this, we'll make use of the point source approximation for each compartment of the model neuron.\n",
        "\n",
        "Recall, a point current source $I$ at position $(x_{0},y_{0},z_{0})$ generates an electrical potential $V_{e}$ at a position with coordinates $(x,y,z)$ given by:\n",
        "\n",
        "$V_{e}(x,y,z) = \\frac{I}{4 \\pi \\sigma_{e} R}$. (1)\n",
        "\n",
        "Here, $\\sigma_e$ is the conductivity of the extracellular space, and $R$ is distance from the recording position $(x,y,z)$ to the recording electrode. We'll use a fixed conductivity approximating gray matter of $0.2 \\; S/m$. So, using the equation for distance, we get:\n",
        "\n",
        "$V_{e}(x,y,z) = \\frac{I}{4 \\pi \\sigma_{e} \\sqrt{(x - x_{0})^2 + (y - y_{0})^2 + (z - z_{0})^2}}$. (2)\n",
        "\n",
        "To calculate the extracellular potential at the point of a recording electrode $(x_e,y_e,z_e)$, we can use the principle of superposition to add up the voltage produced by all $N$ compartments of the model neuron.\n",
        "\n",
        "$V_{e}(x_{e},y_{e},z_{e}) = \\frac{I^{1}_{m}}{4 \\pi \\sigma_e R_{1}} + \\frac{I^{2}_{m}}{4 \\pi \\sigma_e R_{2}} + ... \\frac{I^{N}_{m}}{4 \\pi \\sigma_e R_{N}} = \\sum_{i}^{N} \\frac{I_{m}^{i}}{4 \\pi \\sigma_{e} R_{i}}$. (3)\n",
        "\n",
        "Here the superscript notation on $I_{m}$ and subscript on $R$ denote the index of the compartment. Doing this for each time point of our recording allows us to calculate the extracellule voltage signal across time. Finally, we can just as easily do this for multiple neurons to model the signals generated by the surrounding neural populations, which usually would be present in real recordings."
      ]
    },
    {
      "attachments": {},
      "cell_type": "markdown",
      "metadata": {},
      "source": [
        "### Building the model\n",
        "\n",
        "Let's start with building our neuron model and simulating an action potential. For this exercise, we won't worry about incorporating dendritic spines "
      ]
    },
    {
      "cell_type": "code",
      "execution_count": null,
      "metadata": {},
      "outputs": [],
      "source": [
        "from helper_functions import createL5PC\n",
        "\n",
        "morphology_file = \"morphologies/cell1.asc\" # morphology file\n",
        "L5PC = createL5PC(morphology_file)\n",
        "\n",
        "# Create recording vectors for time and somatic voltage, since we know we'll need these later\n",
        "t_vec = h.Vector().record(h._ref_t)\n",
        "v_soma = h.Vector().record(L5PC.soma[0](0.5)._ref_v)\n"
      ]
    },
    {
      "attachments": {},
      "cell_type": "markdown",
      "metadata": {},
      "source": [
        "The code below plots the morphology."
      ]
    },
    {
      "cell_type": "code",
      "execution_count": null,
      "metadata": {},
      "outputs": [],
      "source": [
        "ps = h.PlotShape(False) # generate a NEURON PlotShape object\n",
        "fig = ps.plot(plotly) # Plot using plotly's renderer\n",
        "scene=dict(camera=dict(up=dict(x=0,y=1,z=0),eye=dict(x=2,y=2,z=2.5)), # define view properties\n",
        "           xaxis=dict(nticks=3,showticklabels=True),\n",
        "           yaxis=dict(nticks=3,showticklabels=True),\n",
        "           zaxis=dict(nticks=3,showticklabels=True),\n",
        "           aspectmode='data', #this string can be 'data', 'cube', 'auto', 'manual'           \n",
        "           )\n",
        "fig.update_layout(scene=scene,autosize=False,width=400,height=600)\n",
        "plotly.io.show(fig)"
      ]
    },
    {
      "attachments": {},
      "cell_type": "markdown",
      "metadata": {},
      "source": [
        "Now, to calculate the extracellular potential, we'll need the membrane current and position of each compartment (segment). NEURON allows us to record the membrane current density (in $mA/cm^{2}$) from a variable called `i_membrane`, so we'll need to convert this to current to current ($mA$) by multiplying with the surface area of each compartment. We can access a segment's surface area using the `area` method. \n",
        "\n",
        "Run the code below to generate the membrane current recording vectors, as well as the coordinates and surface area of each segment. "
      ]
    },
    {
      "cell_type": "code",
      "execution_count": null,
      "metadata": {},
      "outputs": [],
      "source": [
        "# Record membrane currents and save surface area of each compartment\n",
        "i_mems = [] # membrane current density recordings (mA/cm^2)\n",
        "areas = [] # surface areas (µm^2)\n",
        "x = [] # x coordinates (µm)\n",
        "y = [] # y coordinates (µm)\n",
        "z = [] # z coordinates (µm)\n",
        "for sec in L5PC.all:\n",
        "    for seg in sec:\n",
        "        i_mems.append(h.Vector().record(seg._ref_i_membrane))\n",
        "        areas.append(seg.area())\n",
        "        x.append(seg.x_xtra)\n",
        "        y.append(seg.y_xtra)\n",
        "        z.append(seg.z_xtra)\n",
        "\n",
        "areas = np.array(areas)\n",
        "x = np.array(x)\n",
        "y = np.array(y)\n",
        "z = np.array(z)"
      ]
    },
    {
      "attachments": {},
      "cell_type": "markdown",
      "metadata": {},
      "source": [
        "<font color='red'>1.</font>. Now, insert a current clamp (`h.IClamp`) in the soma and set its amplitude to $1.5 \\; nA$, its duration to $5 \\; ms$, and delay to $10 \\; ms$. The current delivered is then recorded to `stim_current`, so make sure to name your current clamp `stim` (or adjust the name of the recording vector accordingly).\n",
        "\n",
        "With the stimulation set, run a $50 \\; ms$ simulation (`h.tstop`) with an initial voltage (`h.v_init`) of $-77 \\; mV$ and temperature (`h.celsius`) of $37^{\\circ} C$. \n",
        "\n",
        "The code below then runs the simulation and plots the membrane voltage vs. time."
      ]
    },
    {
      "cell_type": "code",
      "execution_count": null,
      "metadata": {},
      "outputs": [],
      "source": [
        "# Add a current clamp and name it stim\n",
        "# Your code goes here\n",
        "\n",
        "stim_current = h.Vector().record(stim._ref_i) # record injected current\n",
        "  \n",
        "# Simulation settings\n",
        "\n",
        "# Run\n",
        "h.run()\n",
        "\n",
        "# Plot\n",
        "fig = make_subplots()\n",
        "fig.add_trace(go.Scatter(x=t_vec,y=v_soma,name='Vm'))\n",
        "fig['layout']['yaxis']['title']='Vm (mV)'\n",
        "fig['layout']['xaxis']['title']='time (ms)'\n",
        "fig.show()"
      ]
    },
    {
      "attachments": {},
      "cell_type": "markdown",
      "metadata": {},
      "source": [
        "You should see a single action potential evoked by by the 5 ms depolarizing current injection. Because of the additional potassium and calcium channels, the afterpotential has additional some complex, slow dynamics that we didn't see with the Hodgkin-Huxley model. "
      ]
    },
    {
      "attachments": {},
      "cell_type": "markdown",
      "metadata": {},
      "source": [
        "Let's choose a recording electrode location and visualize it. We'll start with an electrode located just outside the neuron, near the soma. \n",
        "<font color='red'>2.</font> Set `xe` to $100 \\; \\mu m$, `ye` to $0 \\; \\mu m$, and `ze` to $0 \\; \\mu m$ in the code block below to plot. "
      ]
    },
    {
      "cell_type": "code",
      "execution_count": null,
      "metadata": {},
      "outputs": [],
      "source": [
        "# choose recording electrode location\n",
        "# Your code goes here\n",
        "xe = 100\n",
        "ye = 0\n",
        "ze = 0\n",
        "\n",
        "# Create dummy section to plot electrode location\n",
        "elec_location = h.Section(name='elec')\n",
        "elec_location.pt3dadd(xe,ye,ze,1)\n",
        "\n",
        "\n",
        "ps = h.PlotShape(False) # generate a NEURON PlotShape object\n",
        "fig = ps.plot(plotly) # Plot using plotly's renderer\n",
        "scene=dict(camera=dict(up=dict(x=0,y=1,z=0),eye=dict(x=2,y=2,z=2.5)), # define view properties\n",
        "           xaxis=dict(nticks=3,showticklabels=True),\n",
        "           yaxis=dict(nticks=3,showticklabels=True),\n",
        "           zaxis=dict(nticks=3,showticklabels=True),\n",
        "           aspectmode='data', #this string can be 'data', 'cube', 'auto', 'manual'           \n",
        "           )\n",
        "fig.mark(elec_location(0.5))\n",
        "fig.update_layout(scene=scene,autosize=False,width=400,height=600)\n",
        "plotly.io.show(fig)"
      ]
    },
    {
      "attachments": {},
      "cell_type": "markdown",
      "metadata": {},
      "source": [
        "We already ran our simulation, so all we need to is to calculate the extracellular potential $V_{e}$ at our recording electrode location. \n",
        "\n",
        "The function `calcVe` below implements equation (3) using matrix multiplication, but see the commented code to see how this would be implemented with two for loops. You can check for yourself that these approaches are equivalent by uncommenting that code when we use the function below."
      ]
    },
    {
      "cell_type": "code",
      "execution_count": null,
      "metadata": {},
      "outputs": [],
      "source": [
        "def calcVe(xe,ye,ze,i_mems,x,y,z,areas,Iinj=None,sigma_e = 0.2):\n",
        "    # Calculate extracellular potential at point electrode for set of compartments\n",
        "    # Input arguments:\n",
        "    #   xe - x coordinate of recording electrode (µm)\n",
        "    #   ye - y coordinate of recording electrode (µm)\n",
        "    #   ze - z coordinate of recording electrode (µm)\n",
        "    #   i_mems - list of membrane current density recordings (mA/cm^2)\n",
        "    #   x - array of x coordinates of recording locations (compartments) (µm)\n",
        "    #   y - array of y coordinates of recording locations (compartments) (µm)\n",
        "    #   z - array of z coordinates of recording locations (compartments) (µm)\n",
        "    #   areas - surface areas of compartments (µm2)\n",
        "    #   sigma_e - conductivity of extracellular medium (S/m)\n",
        "    i_mems_arr = [np.array(i) for i in i_mems] \n",
        "    i_mems_arr = np.array(i_mems_arr).T # convert to number of time points x number of segments matrix\n",
        "    # multiple each column by corresponding compartment's surface area\n",
        "    i_mems_arr = i_mems_arr*areas.reshape(1,-1)*1e-8 # mA/cm2 * µm^2 * 1e-8 cm^2/µm2 -> mA \n",
        "    if Iinj is not None:\n",
        "        # Subtract injected current from somatic membrane current recording\n",
        "        i_mems_arr[:,0] = i_mems_arr[:,0] - np.array(Iinj)*1e-6 # converts from nA to mA \n",
        "    r = np.sqrt((x - xe)**2 + (y- ye)**2 + (z-ze)**2)*1e-6 # distance from recording electrode to all compartments (µm*1e-6 m/µm -> m)\n",
        "   \n",
        "    # Use matrix multiplication to sum Ve from all compartments at each time point (row of i_mems)\n",
        "    Ve = 1e3*np.matmul(i_mems_arr,1/r)*(1/(4*np.pi*sigma_e)) # mA/(m*S/m) -> mV*1e3 -> µV\n",
        "    # Equivalent to:\n",
        "    # Ve = []\n",
        "    # for ti in range(0,i_mems_arr.shape[0]):\n",
        "    #     Ve_ti = 0\n",
        "    #     for n in range(0,i_mems_arr.shape[1]):\n",
        "    #         Ve_ti += 1e3*i_mems_arr[ti,n]/(4*np.pi*sigma_e*r[n])\n",
        "    #     Ve.append(Ve_ti)\n",
        "    # Ve = np.array(Ve)\n",
        "\n",
        "    return Ve"
      ]
    },
    {
      "attachments": {},
      "cell_type": "markdown",
      "metadata": {},
      "source": [
        "<font color='red'>3.</font> Below, call `calcVe` and use the code below to plot overlaid the membrane potential ($V_{m}$) and the extracellular potential ($V_{e}$) recorded at your recording electrode location. "
      ]
    },
    {
      "cell_type": "code",
      "execution_count": null,
      "metadata": {},
      "outputs": [],
      "source": [
        "# Your code goes here\n",
        "\n",
        "\n",
        "# Plot\n",
        "fig = make_subplots(specs=[[{\"secondary_y\": True}]])\n",
        "fig.add_trace(go.Scatter(x=t_vec,y=v_soma,name='Vm'),secondary_y = False)\n",
        "fig.add_trace(go.Scatter(x=t_vec,y=Ve,name='Ve'),secondary_y = True)\n",
        "fig.update_layout(yaxis = dict(range=[-80,50]))\n",
        "# fig.update_layout(yaxis2 = dict(range=[-5,5]))\n",
        "fig['layout']['yaxis']['title']='Vm (mV)'\n",
        "fig['layout']['yaxis2']['title']='Ve (uV)'\n",
        "fig['layout']['xaxis']['title']='time (ms)'\n",
        "fig.show()"
      ]
    },
    {
      "attachments": {},
      "cell_type": "markdown",
      "metadata": {},
      "source": [
        "<font color='red'>**Q1**: \n",
        "Explain what gives rise to the negative and positive phase of the extracellular recording. Why do they have this polarity?\n",
        "</font>"
      ]
    },
    {
      "attachments": {},
      "cell_type": "markdown",
      "metadata": {},
      "source": []
    },
    {
      "attachments": {},
      "cell_type": "markdown",
      "metadata": {},
      "source": [
        "### How does the signal shape vary as we move along the dendritic tree?\n",
        "\n",
        "For most real life recordings, we wouldn't know the distance or identity of the neuron we're recording from *a priori*. Using the model, we can explore how the electrode position relative to the neuron's dendritic morphology would alter the signal we record. \n",
        "\n",
        "<font color='red'>4.</font> Define a vector `ye_vec` of positions for the y-coordinate of the recording electrode containing 5 evenly spaced points from $0$ to $1500 \\; \\mu m$. The subsequent code plots all these recording electrodes."
      ]
    },
    {
      "cell_type": "code",
      "execution_count": null,
      "metadata": {},
      "outputs": [],
      "source": [
        "# choose recording electrode location\n",
        "# Your code goes here\n",
        "ye_vec = \n",
        "\n",
        "\n",
        "# Plot all electrodes\n",
        "ps = h.PlotShape(False) # generate a NEURON PlotShape object\n",
        "fig = ps.plot(plotly) # Plot using plotly's renderer\n",
        "scene=dict(camera=dict(up=dict(x=0,y=1,z=0),eye=dict(x=2,y=2,z=2.5)), # define view properties\n",
        "           xaxis=dict(nticks=3,showticklabels=True),\n",
        "           yaxis=dict(nticks=3,showticklabels=True),\n",
        "           zaxis=dict(nticks=3,showticklabels=True),\n",
        "           aspectmode='data', #this string can be 'data', 'cube', 'auto', 'manual'           \n",
        "           )\n",
        "elec_locations = []\n",
        "for ye in ye_vec:\n",
        "    elec_location = h.Section(name='elec')\n",
        "    elec_location.pt3dadd(xe,ye,ze,1)\n",
        "    fig.mark(elec_location(0.5))\n",
        "    elec_locations.append(elec_location)\n",
        "    \n",
        "fig.update_layout(scene=scene,autosize=False,width=400,height=600)\n",
        "plotly.io.show(fig)"
      ]
    },
    {
      "attachments": {},
      "cell_type": "markdown",
      "metadata": {},
      "source": [
        "<font color='red'>5.</font> Now, use `calcVe` to calculate the extracellular potential at each of these recording locations and plot `Ve` vs. time, either overlaid or on different axes. You may use the plotting package of your choice. "
      ]
    },
    {
      "cell_type": "code",
      "execution_count": null,
      "metadata": {},
      "outputs": [],
      "source": [
        "# Your code goes here\n",
        "# Loop over ye_vec values \n",
        "Ve_all = []\n",
        "\n",
        "\n",
        "# Plot \n"
      ]
    },
    {
      "attachments": {},
      "cell_type": "markdown",
      "metadata": {},
      "source": [
        "<font color='red'>**Q2**:  What happens to the extracellular action potential signal as you move up the dendritic tree? Why does the polarity flip?\n",
        "</font>"
      ]
    },
    {
      "attachments": {},
      "cell_type": "markdown",
      "metadata": {},
      "source": []
    },
    {
      "attachments": {},
      "cell_type": "markdown",
      "metadata": {},
      "source": [
        "# How does the signal amplitude decay with distance?\n",
        "\n",
        "Moving along the dendritic tree seems to alter both the shape and magnitude of the signal. While the shape of the signal can tell us about the intracellular voltage dynamics and, to some extent, the location of the electrode relative to the morphology, recording a signal with sufficient amplitude is critical for us to be able to resolve spiking activity from a given neuron. How close do we have to be to do this? During *in vivo* recordings, our electrode picks up signals from our neuron of interest, but also from thermal noise, amplifier noise, environmental noise, and background activity of more distant neurons (neural noise). The electrical potentials from all these noise sources sum with our signal at the recording electrode, which can make extracting the actual signal challenging. Suppose our noise floor (the baseline amount of noise) with our recording system and amplifier is $2 \\mu V$ (this is on the low side). \n",
        "\n",
        "<font color='red'>6.</font> Try varying the x-position (returning `ye` to 0) from $40 \\; \\mu m$ to $2000 \\mu m$ (choose the number of steps as you'd like), and measuring the absolute peak of our extracellular potential signal. Then, plot the absolute peak voltage vs. distance (x-position)."
      ]
    },
    {
      "cell_type": "code",
      "execution_count": null,
      "metadata": {},
      "outputs": [],
      "source": [
        "# Your code goes here\n",
        "# Loop over x positions\n",
        "ye = 0\n",
        "xe_vec = \n",
        "# Loop over xe_vec, calculate Ve, then calculate absolute max and append to peak_Ve list\n",
        "peak_Ve = []\n",
        "\n",
        "\n",
        "# Plot xe_vec vs. peak_Ve\n"
      ]
    },
    {
      "attachments": {},
      "cell_type": "markdown",
      "metadata": {},
      "source": [
        "<font color='red'>**Q3**:  How close do you need to be to the neuron to pick up its extracellular action potential above noise? \n",
        "</font>"
      ]
    },
    {
      "attachments": {},
      "cell_type": "markdown",
      "metadata": {},
      "source": []
    },
    {
      "attachments": {},
      "cell_type": "markdown",
      "metadata": {},
      "source": [
        "<font color='red'>**Bonus Q**:  Try overlaying a $1/r$ and $1/r^{2}$ function (scaled to the same peak) on the same axes. Which function better describes the decay and why?\n",
        "</font>"
      ]
    },
    {
      "cell_type": "code",
      "execution_count": null,
      "metadata": {},
      "outputs": [],
      "source": []
    },
    {
      "attachments": {},
      "cell_type": "markdown",
      "metadata": {},
      "source": []
    }
  ],
  "metadata": {
    "colab": {
      "include_colab_link": true,
      "provenance": [],
      "toc_visible": true
    },
    "kernelspec": {
      "display_name": "cmns_env",
      "language": "python",
      "name": "python3"
    },
    "language_info": {
      "codemirror_mode": {
        "name": "ipython",
        "version": 3
      },
      "file_extension": ".py",
      "mimetype": "text/x-python",
      "name": "python",
      "nbconvert_exporter": "python",
      "pygments_lexer": "ipython3",
      "version": "3.9.16"
    },
    "vscode": {
      "interpreter": {
        "hash": "d0488761690764cced0e7b1e141a742f06ea2f3fa8f54952eb1b54a94bfd6a2a"
      }
    }
  },
  "nbformat": 4,
  "nbformat_minor": 0
}
